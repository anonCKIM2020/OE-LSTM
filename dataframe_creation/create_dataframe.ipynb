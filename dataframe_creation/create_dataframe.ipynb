{
 "cells": [
  {
   "cell_type": "code",
   "execution_count": null,
   "metadata": {},
   "outputs": [],
   "source": [
    "import pandas as pd\n",
    "import numpy as np"
   ]
  },
  {
   "cell_type": "code",
   "execution_count": null,
   "metadata": {},
   "outputs": [],
   "source": [
    "#Datasets\n",
    "weather_outliers = pd.read_csv('../SFPD-LOF/output_data/complete_weather.csv', index_col=0, parse_dates=True)\n",
    "weather_outliers = weather_outliers.resample('H').ffill()\n",
    "weather_original = pd.read_csv('../data_other/clean_weather.csv', index_col=0, parse_dates=True)\n",
    "weather_original = weather_original[['M','R','S','O']]\n",
    "train = pd.read_csv('../data_other/train_boolean.csv', index_col=0, parse_dates=True)\n",
    "traffic = pd.read_csv('../SFPD-LOF/output_data/traffic_intersection_selection.csv', index_col=0, parse_dates=True)\n",
    "traffic = traffic.fillna(1)\n",
    "extra_traffic = pd.read_csv('../SFPD-LOF/output_data/traffic_other_locations.csv', index_col=0, parse_dates=True)\n",
    "extra_traffic = extra_traffic.fillna(1)\n",
    "holiday = pd.read_csv('../data_other/holidays.csv', index_col=0, parse_dates=True)"
   ]
  },
  {
   "cell_type": "code",
   "execution_count": null,
   "metadata": {},
   "outputs": [],
   "source": [
    "#weather_original = weather_original[weather_original.FH != '     ']\n",
    "#weather_original = weather_original[weather_original.FX != '     ']\n",
    "#weather_original = weather_original[weather_original.T != '     ']\n",
    "#weather_original = weather_original[weather_original.SQ != '     ']\n",
    "#weather_original = weather_original[weather_original.RH != '     ']\n",
    "#weather_original = weather_original[weather_original.VV != '     ']\n",
    "#weather_original = weather_original[weather_original.N != '     ']\n",
    "\n",
    "weather_original = weather_original[weather_original.M != '     ']\n",
    "weather_original = weather_original[weather_original.R != '     ']\n",
    "weather_original = weather_original[weather_original.S != '     ']\n",
    "weather_original = weather_original[weather_original.O != '     ']\n",
    "\n",
    "#weather_original = weather_original[weather_original.Y != '     ']\n",
    "#tt = ['M','R','S','O']\n",
    "for column in weather_original.columns:\n",
    "    weather_original[column] = pd.to_numeric(weather_original[column])"
   ]
  },
  {
   "cell_type": "code",
   "execution_count": null,
   "metadata": {},
   "outputs": [],
   "source": [
    "dfs = [traffic,extra_traffic,train,weather_outliers,weather_original,holiday]\n",
    "df = pd.concat(dfs,axis=1,sort=False)\n",
    "df = df[:'2019-03-28']\n",
    "df.head()"
   ]
  },
  {
   "cell_type": "code",
   "execution_count": null,
   "metadata": {},
   "outputs": [],
   "source": [
    "df.to_csv('./complete_dataframe.csv')"
   ]
  },
  {
   "cell_type": "code",
   "execution_count": null,
   "metadata": {},
   "outputs": [],
   "source": []
  }
 ],
 "metadata": {
  "kernelspec": {
   "display_name": "Python 3",
   "language": "python",
   "name": "python3"
  },
  "language_info": {
   "codemirror_mode": {
    "name": "ipython",
    "version": 3
   },
   "file_extension": ".py",
   "mimetype": "text/x-python",
   "name": "python",
   "nbconvert_exporter": "python",
   "pygments_lexer": "ipython3",
   "version": "3.7.4"
  }
 },
 "nbformat": 4,
 "nbformat_minor": 2
}
