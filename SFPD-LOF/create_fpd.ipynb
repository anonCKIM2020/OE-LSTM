{
 "cells": [
  {
   "cell_type": "markdown",
   "metadata": {},
   "source": [
    "# Create Flow Probability Distribution"
   ]
  },
  {
   "cell_type": "code",
   "execution_count": 22,
   "metadata": {},
   "outputs": [],
   "source": [
    "import pandas as pd\n",
    "import numpy as np\n",
    "from collections import Counter\n",
    "import matplotlib.pyplot as plt\n",
    "import json\n",
    "import datetime as dt"
   ]
  },
  {
   "cell_type": "markdown",
   "metadata": {},
   "source": [
    "## Create sets\n",
    "Filter based on timestamp. Only values between start and end time will be stored in the set. In this instance, the sets are hourly. Multiple sets are collected to create FPDs over the whole day."
   ]
  },
  {
   "cell_type": "code",
   "execution_count": 23,
   "metadata": {},
   "outputs": [],
   "source": [
    "def import_intersection(intersection_name):\n",
    "    intersection_data = pd.read_csv('../intersection_selection/'+intersection_name+'.csv')\n",
    "    intersection_data.index=pd.DatetimeIndex(intersection_data.timestamp)\n",
    "    intersection_data.index.name = None\n",
    "    return intersection_data[[intersection_name]]"
   ]
  },
  {
   "cell_type": "code",
   "execution_count": 24,
   "metadata": {},
   "outputs": [],
   "source": [
    "def create_sets(start_time,end_time,intersection_data):\n",
    "    return intersection_data.between_time(start_time,end_time,include_end=False)"
   ]
  },
  {
   "cell_type": "markdown",
   "metadata": {},
   "source": [
    "## Probability Mass Function\n",
    "Take a set and perform the PMF for it, then return the unique traffic flow values and their probability."
   ]
  },
  {
   "cell_type": "code",
   "execution_count": 25,
   "metadata": {},
   "outputs": [],
   "source": [
    "def probability_mass_function(intersection_set):\n",
    "    total_occurences = intersection_set[intersection_set.columns[0]].values\n",
    "    unique_occurences = intersection_set[intersection_set.columns[0]].unique()\n",
    "    unique_occurences.sort()\n",
    "    occurence_counter = Counter(total_occurences)\n",
    "    fpd = []\n",
    "    for i in range(len(unique_occurences)):\n",
    "        fpd.append(occurence_counter[unique_occurences[i]]/len(total_occurences))\n",
    "    return [list([int(flow_value) for flow_value in unique_occurences]), fpd]"
   ]
  },
  {
   "cell_type": "markdown",
   "metadata": {},
   "source": [
    "## Create dictionary\n",
    "Seperate function that sets up the dictionary in which the fpds will be saved."
   ]
  },
  {
   "cell_type": "code",
   "execution_count": 26,
   "metadata": {},
   "outputs": [],
   "source": [
    "def create_dictionary(intersections):\n",
    "    fpds = {}\n",
    "    hours = [(dt.time(i).strftime('%H')) for i in range(24)] #Create list of hours\n",
    "    for i in range(len(intersections)): #each intersection\n",
    "        fpds[intersections[i]] = {}\n",
    "        for weekday in range(7): #Set up day of the week\n",
    "            fpds[intersections[i]][weekday] = {}\n",
    "            for hour in hours: #Set up hour of the day\n",
    "                fpds[intersections[i]][weekday][hour] = {}\n",
    "    return fpds"
   ]
  },
  {
   "cell_type": "markdown",
   "metadata": {},
   "source": [
    "## Create FPDs\n",
    "Main function to create FPDs. Uses previous functions to combine it all together and store the fpds in a dictionary."
   ]
  },
  {
   "cell_type": "code",
   "execution_count": 27,
   "metadata": {},
   "outputs": [],
   "source": [
    "def create_fpds(intersections):\n",
    "    fpds = create_dictionary(intersections)\n",
    "    hours = [(dt.time(i).strftime('%H')) for i in range(24)]\n",
    "    \n",
    "    for i in range(len(intersections)): #each intersection\n",
    "        intersection_data = import_intersection(intersections[i])\n",
    "        days = [group[1] for group in intersection_data.groupby(intersection_data.index.date)]\n",
    "        for day in days: #each date\n",
    "            date = str(day.index.date[0])\n",
    "            weekday = day.index.date[0].weekday()\n",
    "            for j in range(len(hours)): #each hour of the day\n",
    "                start_time = hours[j]+':00'\n",
    "                if j==23: \n",
    "                    end_time = hours[0]+':00'\n",
    "                else:\n",
    "                    end_time = hours[j+1]+':00'\n",
    "                \n",
    "                intersection_set = create_sets(start_time,end_time,day)\n",
    "                fpd = probability_mass_function(intersection_set)\n",
    "                \n",
    "                if sum(fpd[0])/len(fpd[0]) == 0:\n",
    "                    #print('Found 0,0,0,0 at: ',intersections[i],weekday,start_time[:2],date)\n",
    "                    pass\n",
    "                else:\n",
    "                    fpds[intersections[i]][weekday][start_time[:2]][date] = fpd              \n",
    "    return fpds"
   ]
  },
  {
   "cell_type": "code",
   "execution_count": 7,
   "metadata": {},
   "outputs": [],
   "source": [
    "fpds = create_fpds(['K302','K173','K414','K158','K402','K305'])"
   ]
  },
  {
   "cell_type": "code",
   "execution_count": 9,
   "metadata": {},
   "outputs": [],
   "source": [
    "with open('./edited_data/fpd_collection.json', 'w') as f:\n",
    "    json.dump(fpds, f)"
   ]
  }
 ],
 "metadata": {
  "kernelspec": {
   "display_name": "Python 3",
   "language": "python",
   "name": "python3"
  },
  "language_info": {
   "codemirror_mode": {
    "name": "ipython",
    "version": 3
   },
   "file_extension": ".py",
   "mimetype": "text/x-python",
   "name": "python",
   "nbconvert_exporter": "python",
   "pygments_lexer": "ipython3",
   "version": "3.7.1"
  }
 },
 "nbformat": 4,
 "nbformat_minor": 2
}
