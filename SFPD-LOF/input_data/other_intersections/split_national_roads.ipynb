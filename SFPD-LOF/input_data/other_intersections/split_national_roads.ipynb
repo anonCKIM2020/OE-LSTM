{
 "cells": [
  {
   "cell_type": "markdown",
   "metadata": {},
   "source": [
    "# Split national roads"
   ]
  },
  {
   "cell_type": "code",
   "execution_count": 1,
   "metadata": {},
   "outputs": [],
   "source": [
    "import pandas as pd\n",
    "import numpy as np"
   ]
  },
  {
   "cell_type": "code",
   "execution_count": 2,
   "metadata": {},
   "outputs": [
    {
     "name": "stderr",
     "output_type": "stream",
     "text": [
      "/Users/wesleyfitters/anaconda3/lib/python3.7/site-packages/IPython/core/interactiveshell.py:3020: DtypeWarning: Columns (2,3,4,5,6,7,8,9,10,11) have mixed types. Specify dtype option on import or set low_memory=False.\n",
      "  interactivity=interactivity, compiler=compiler, result=result)\n"
     ]
    }
   ],
   "source": [
    "roads = pd.read_csv('./national_roads.csv')"
   ]
  },
  {
   "cell_type": "code",
   "execution_count": 3,
   "metadata": {},
   "outputs": [],
   "source": [
    "n211in = roads[['meetpunt','N211 stad in']]\n",
    "n211out = roads[['meetpunt','N211 stad uit']]\n",
    "n141in = roads[['meetpunt','N14.1 stad in']]\n",
    "n141out = roads[['meetpunt','N14.1 stad uit']]\n",
    "n142in = roads[['meetpunt','14.2 stad in']]\n",
    "n142out = roads[['meetpunt','14.2 stad uit']]\n",
    "n143in = roads[['meetpunt','14.3 stad in']]\n",
    "n143out = roads[['meetpunt','14.3 stad uit']]"
   ]
  },
  {
   "cell_type": "code",
   "execution_count": 7,
   "metadata": {},
   "outputs": [],
   "source": [
    "n211in.columns = ['timestamp','n211in']\n",
    "n211in = n211in[1:]\n",
    "n211in.to_csv('./n211in.csv',index=False)\n",
    "n211out.columns = ['timestamp','n211out']\n",
    "n211out = n211out[1:]\n",
    "n211out.to_csv('./n211out.csv',index=False)"
   ]
  },
  {
   "cell_type": "code",
   "execution_count": 8,
   "metadata": {},
   "outputs": [],
   "source": [
    "n141in.columns = ['timestamp','n141in']\n",
    "n141in = n141in[1:]\n",
    "n141in.to_csv('./n141in.csv',index=False)\n",
    "n141out.columns = ['timestamp','n141out']\n",
    "n141out = n141out[1:]\n",
    "n141out.to_csv('./n141out.csv',index=False)"
   ]
  },
  {
   "cell_type": "code",
   "execution_count": 9,
   "metadata": {},
   "outputs": [],
   "source": [
    "n142in.columns = ['timestamp','n142in']\n",
    "n142in = n142in[1:]\n",
    "n142in.to_csv('./n142in.csv',index=False)\n",
    "n142out.columns = ['timestamp','n142out']\n",
    "n142out = n142out[1:]\n",
    "n142out.to_csv('./n142out.csv',index=False)"
   ]
  },
  {
   "cell_type": "code",
   "execution_count": 10,
   "metadata": {},
   "outputs": [],
   "source": [
    "n143in.columns = ['timestamp','n143in']\n",
    "n143in = n143in[1:]\n",
    "n143in.to_csv('./n143in.csv',index=False)\n",
    "n143out.columns = ['timestamp','n143out']\n",
    "n143out = n143out[1:]\n",
    "n143out.to_csv('./n143out.csv',index=False)"
   ]
  },
  {
   "cell_type": "code",
   "execution_count": null,
   "metadata": {},
   "outputs": [],
   "source": []
  }
 ],
 "metadata": {
  "kernelspec": {
   "display_name": "Python 3",
   "language": "python",
   "name": "python3"
  },
  "language_info": {
   "codemirror_mode": {
    "name": "ipython",
    "version": 3
   },
   "file_extension": ".py",
   "mimetype": "text/x-python",
   "name": "python",
   "nbconvert_exporter": "python",
   "pygments_lexer": "ipython3",
   "version": "3.7.1"
  }
 },
 "nbformat": 4,
 "nbformat_minor": 2
}
