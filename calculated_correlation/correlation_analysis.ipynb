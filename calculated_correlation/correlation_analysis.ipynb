{
 "cells": [
  {
   "cell_type": "code",
   "execution_count": null,
   "metadata": {},
   "outputs": [],
   "source": [
    "import numpy as np\n",
    "import pandas as pd\n",
    "import json\n",
    "import seaborn as sns; sns.set()\n",
    "import matplotlib.pyplot as plt"
   ]
  },
  {
   "cell_type": "code",
   "execution_count": null,
   "metadata": {},
   "outputs": [],
   "source": [
    "lof_df = pd.read_csv('../dataframe_creation/complete_dataframe.csv', index_col=0, parse_dates=True)\n",
    "lof_df = lof_df.fillna(1)"
   ]
  },
  {
   "cell_type": "code",
   "execution_count": null,
   "metadata": {},
   "outputs": [],
   "source": [
    "intersections = [\n",
    "    'K302','K173','K414','K158','K402','K305',\n",
    "    'K071','K097','K124','K128','K159','K184','K189','K206','K225','K270','K304','K405','K406','K424','K430','K703','K704','K707','K711','K561','K504','K145','K250',\n",
    "    'a12in','a12out','n211in','n211out','n141in','n141out','n142in','n142out','n143in','n143out'\n",
    "]"
   ]
  },
  {
   "cell_type": "code",
   "execution_count": null,
   "metadata": {},
   "outputs": [],
   "source": [
    "def calc_corr_top_k(df,intersection,k):\n",
    "    correlations = []\n",
    "    one = df[intersection].sort_values(ascending=False).tail(k)\n",
    "    one = one.index\n",
    "    for column2 in df.columns:\n",
    "        if column2 in ['from_dh','to_dh','M','R','S','O','school_holiday','other_holidays']:\n",
    "            two = df[df[column2] == 1]\n",
    "            two = two.index\n",
    "        else:\n",
    "            two = df[column2].sort_values(ascending=False).tail(k)\n",
    "            two = two.index\n",
    "        overlap = sum(el in one for el in two)\n",
    "        correlation = round(overlap/k,2)\n",
    "        correlations.append(correlation)\n",
    "    return correlations"
   ]
  },
  {
   "cell_type": "code",
   "execution_count": null,
   "metadata": {},
   "outputs": [],
   "source": [
    "def all_corr(df,intersections,k):\n",
    "    correlations = []\n",
    "    for intersection in intersections:\n",
    "        correlations.append(calc_corr_top_k(df,intersection,k))\n",
    "    return correlations"
   ]
  },
  {
   "cell_type": "code",
   "execution_count": null,
   "metadata": {},
   "outputs": [],
   "source": [
    "def calc_corr_top_k_bigger_window(df,intersection,k):\n",
    "    correlations = []\n",
    "    one = df[intersection].sort_values(ascending=False).tail(k)\n",
    "    one = list(one.index)\n",
    "    col_one = []\n",
    "    for datetime in one: #add +1/-1 hour to list\n",
    "        col_one.append(datetime)\n",
    "        col_one.append(datetime-pd.Timedelta(hours=1))\n",
    "        col_one.append(datetime+pd.Timedelta(hours=1))    \n",
    "    for column2 in df.columns:\n",
    "        if column2 in ['from_dh','to_dh','M','R','S','O','school_holiday','other_holidays']:\n",
    "            two = df[df[column2] == 1]\n",
    "            two = two.index\n",
    "        else:\n",
    "            two = df[column2].sort_values(ascending=False).tail(k)\n",
    "            two = list(two.index)\n",
    "        overlap = sum(el in col_one for el in two)\n",
    "        correlation = round(overlap/k,2)\n",
    "        correlations.append(correlation)\n",
    "    return correlations"
   ]
  },
  {
   "cell_type": "code",
   "execution_count": null,
   "metadata": {},
   "outputs": [],
   "source": [
    "def bigger_window_all_corr(df,intersections,k):\n",
    "    correlations = []\n",
    "    for intersection in intersections:\n",
    "        correlations.append(calc_corr_top_k_bigger_window(df,intersection,k))\n",
    "    return correlations"
   ]
  },
  {
   "cell_type": "markdown",
   "metadata": {},
   "source": [
    "# TOP K outlier correlation"
   ]
  },
  {
   "cell_type": "code",
   "execution_count": null,
   "metadata": {},
   "outputs": [],
   "source": [
    "current_fpd_lof = all_corr(lof_df,intersections,50)\n",
    "current_fpd_lof = pd.DataFrame(current_fpd_lof)\n",
    "current_fpd_lof.columns = lof_df.columns\n",
    "current_fpd_lof = current_fpd_lof.set_index(lof_df.columns[:39])"
   ]
  },
  {
   "cell_type": "code",
   "execution_count": null,
   "metadata": {},
   "outputs": [],
   "source": [
    "fig, ax = plt.subplots(figsize=(20,12))\n",
    "sns.heatmap(current_fpd_lof, ax=ax)"
   ]
  },
  {
   "cell_type": "code",
   "execution_count": null,
   "metadata": {},
   "outputs": [],
   "source": [
    "current_fpd_lof.to_csv('./correlation_current.csv')"
   ]
  },
  {
   "cell_type": "code",
   "execution_count": null,
   "metadata": {},
   "outputs": [],
   "source": []
  },
  {
   "cell_type": "code",
   "execution_count": null,
   "metadata": {},
   "outputs": [],
   "source": []
  }
 ],
 "metadata": {
  "kernelspec": {
   "display_name": "Python 3",
   "language": "python",
   "name": "python3"
  },
  "language_info": {
   "codemirror_mode": {
    "name": "ipython",
    "version": 3
   },
   "file_extension": ".py",
   "mimetype": "text/x-python",
   "name": "python",
   "nbconvert_exporter": "python",
   "pygments_lexer": "ipython3",
   "version": "3.7.4"
  }
 },
 "nbformat": 4,
 "nbformat_minor": 2
}
